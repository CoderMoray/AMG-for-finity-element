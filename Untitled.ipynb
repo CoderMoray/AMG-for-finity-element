{
 "cells": [
  {
   "cell_type": "code",
   "execution_count": 63,
   "metadata": {},
   "outputs": [],
   "source": [
    "import numba as nb\n",
    "import scipy as sp\n",
    "import numpy as np\n",
    "from scipy import sparse\n",
    "from scipy.sparse.linalg import dsolve"
   ]
  },
  {
   "cell_type": "code",
   "execution_count": 64,
   "metadata": {},
   "outputs": [],
   "source": [
    "import numba\n",
    "from scipy.sparse.sputils import (upcast, upcast_char, to_native, isdense, isshape,\n",
    "                      getdtype, isscalarlike, isintlike, get_index_dtype,\n",
    "                      downcast_intp_index, get_sum_dtype, check_shape,\n",
    "                      matrix, asmatrix, is_pydata_spmatrix)"
   ]
  },
  {
   "cell_type": "markdown",
   "metadata": {},
   "source": [
    "csr_matrix, isspmatrix_csr, isspmatrix_bsr\n",
    "coo_matrix SparseEfficiencyWarning"
   ]
  },
  {
   "cell_type": "code",
   "execution_count": 96,
   "metadata": {},
   "outputs": [],
   "source": [
    "m = 3\n",
    "n = 3\n",
    "m1 = np.random.randint(0,100,(m,n))\n",
    "m1[m1>50]=0\n",
    "m2 = np.random.randint(0,100,(m,n))\n",
    "m2[m2>50]=0"
   ]
  },
  {
   "cell_type": "code",
   "execution_count": 97,
   "metadata": {},
   "outputs": [],
   "source": [
    "m1x = sparse.csr_matrix(m1)\n",
    "m2x = sparse.csr_matrix(m2)"
   ]
  },
  {
   "cell_type": "code",
   "execution_count": 98,
   "metadata": {},
   "outputs": [],
   "source": [
    "maxnnz = m1x.nnz + m2x.nnz\n",
    "idx_dtype = get_index_dtype((m1x.indptr, m1x.indices,\n",
    "                             m2x.indptr, m2x.indices),\n",
    "                            maxval=maxnnz)\n",
    "indptr = np.empty(m1x.indptr.shape, dtype=idx_dtype)\n",
    "indices = np.empty(maxnnz, dtype=idx_dtype)\n",
    "bool_ops = ['_ne_', '_lt_', '_gt_', '_le_', '_ge_']\n",
    "if 'enul' in bool_ops:\n",
    "    data = np.empty(maxnnz, dtype=np.bool_)\n",
    "else:\n",
    "    data = np.empty(maxnnz, dtype=upcast(m1x.dtype, m2x.dtype))\n",
    "    "
   ]
  },
  {
   "cell_type": "code",
   "execution_count": 99,
   "metadata": {},
   "outputs": [],
   "source": [
    "n_row,n_col = m1.shape\n",
    "Ap = m1x.indptr\n",
    "Aj = m1x.indices\n",
    "Ax = m1x.data\n",
    "Bp = m2x.indptr\n",
    "Bj = m2x.indices\n",
    "Bx = m2x.data\n",
    "Cp = indptr\n",
    "Cj = indices\n",
    "Cx = data"
   ]
  },
  {
   "cell_type": "markdown",
   "metadata": {},
   "source": [
    "indptr p\n",
    "indices j\n",
    "data x\n"
   ]
  },
  {
   "cell_type": "code",
   "execution_count": 100,
   "metadata": {},
   "outputs": [
    {
     "data": {
      "text/plain": [
       "(array([0, 2, 2, 3], dtype=int32),\n",
       " array([0, 1, 0], dtype=int32),\n",
       " array([46, 15, 42]))"
      ]
     },
     "execution_count": 100,
     "metadata": {},
     "output_type": "execute_result"
    }
   ],
   "source": [
    "Ap,Aj,Ax"
   ]
  },
  {
   "cell_type": "code",
   "execution_count": 103,
   "metadata": {},
   "outputs": [
    {
     "data": {
      "text/plain": [
       "(array([0, 1, 2, 4], dtype=int32),\n",
       " array([0, 2, 0, 1], dtype=int32),\n",
       " array([26, 35, 31, 19]))"
      ]
     },
     "execution_count": 103,
     "metadata": {},
     "output_type": "execute_result"
    }
   ],
   "source": [
    "Bp,Bj,Bx"
   ]
  },
  {
   "cell_type": "code",
   "execution_count": 104,
   "metadata": {},
   "outputs": [
    {
     "data": {
      "text/plain": [
       "(array([[46, 15,  0],\n",
       "        [ 0,  0,  0],\n",
       "        [42,  0,  0]]),\n",
       " array([[26,  0,  0],\n",
       "        [ 0,  0, 35],\n",
       "        [31, 19,  0]]))"
      ]
     },
     "execution_count": 104,
     "metadata": {},
     "output_type": "execute_result"
    }
   ],
   "source": [
    "m1,m2"
   ]
  },
  {
   "cell_type": "code",
   "execution_count": 105,
   "metadata": {},
   "outputs": [
    {
     "data": {
      "text/plain": [
       "array([[1196,    0,    0],\n",
       "       [   0,    0,    0],\n",
       "       [1302,    0,    0]])"
      ]
     },
     "execution_count": 105,
     "metadata": {},
     "output_type": "execute_result"
    }
   ],
   "source": [
    "m1*m2"
   ]
  },
  {
   "cell_type": "code",
   "execution_count": 111,
   "metadata": {},
   "outputs": [
    {
     "ename": "AttributeError",
     "evalue": "'numpy.ndarray' object has no attribute 'intersect1d'",
     "output_type": "error",
     "traceback": [
      "\u001b[0;31m---------------------------------------------------------------------------\u001b[0m",
      "\u001b[0;31mAttributeError\u001b[0m                            Traceback (most recent call last)",
      "\u001b[0;32m<ipython-input-111-860181176058>\u001b[0m in \u001b[0;36m<module>\u001b[0;34m\u001b[0m\n\u001b[0;32m----> 1\u001b[0;31m \u001b[0mAj\u001b[0m\u001b[0;34m[\u001b[0m\u001b[0;36m0\u001b[0m\u001b[0;34m:\u001b[0m\u001b[0;36m2\u001b[0m\u001b[0;34m]\u001b[0m\u001b[0;34m.\u001b[0m\u001b[0mintersect1d\u001b[0m\u001b[0;34m(\u001b[0m\u001b[0mBj\u001b[0m\u001b[0;34m[\u001b[0m\u001b[0;36m0\u001b[0m\u001b[0;34m:\u001b[0m\u001b[0;36m1\u001b[0m\u001b[0;34m]\u001b[0m\u001b[0;34m)\u001b[0m\u001b[0;34m\u001b[0m\u001b[0;34m\u001b[0m\u001b[0m\n\u001b[0m",
      "\u001b[0;31mAttributeError\u001b[0m: 'numpy.ndarray' object has no attribute 'intersect1d'"
     ]
    }
   ],
   "source": [
    "Aj[0:2]Bj[0:1]"
   ]
  },
  {
   "cell_type": "code",
   "execution_count": 113,
   "metadata": {},
   "outputs": [
    {
     "data": {
      "text/plain": [
       "array([0], dtype=int32)"
      ]
     },
     "execution_count": 113,
     "metadata": {},
     "output_type": "execute_result"
    }
   ],
   "source": [
    "np.intersect1d(Aj[0:2],Bj[0:1])"
   ]
  },
  {
   "cell_type": "code",
   "execution_count": 116,
   "metadata": {},
   "outputs": [],
   "source": [
    "# indices,\n",
    "# data,\n",
    "# other_indptr,\n",
    "# other_indices,\n",
    "# other_data,\n",
    "# result_indptr, \n",
    "# result_indices, \n",
    "# result_data\n",
    "@numba.jit(nopython=True, parallel=True)\n",
    "def csr_elmul_csr(n_row, n_col,\n",
    "           Ap,\n",
    "           Aj,\n",
    "           Ax,\n",
    "           Bp,\n",
    "           Bj,\n",
    "           Bx,\n",
    "           Cp, \n",
    "           Cj, \n",
    "           Cx):\n",
    "    Cp[0] = 0;\n",
    "    nnz = 0;\n",
    "    for i in numba.prange(n_row):\n",
    "        A_pos = Ap[i]\n",
    "        B_pos = Bp[i]\n",
    "        A_end = Ap[i+1]\n",
    "        B_end = Bp[i+1]\n",
    "        #while not finished with either row\n",
    "        insec_pos = set(Aj[Ap[i]:Ap[i+1]],Bj[Bp[i]:Bp[i+1]])\n",
    "        ncol=0\n",
    "        for col_index in insec_pos:\n",
    "            v = Ax[ncol+Ap[i]] * Bx[ncol+Bp[i]]\n",
    "            print(v)\n",
    "#         for col_index in range(A_pos, A_end):\n",
    "            \n",
    "            \n",
    "#         for a_j in \n",
    "#         while(A_pos < A_end and B_pos < B_end):\n",
    "#             A_j = Aj[A_pos]\n",
    "#             B_j = Bj[B_pos]\n",
    "#             if(A_j == B_j):\n",
    "#                 result = Ax[A_pos]*Bx[B_pos]\n",
    "#                 if(result != 0):\n",
    "#                     Cj[nnz] = A_j\n",
    "#                     Cx[nnz] = result\n",
    "#                     nnz+=1\n",
    "#                 A_pos+=1\n",
    "#                 B_pos+=1\n",
    "#             elif (A_j < B_j):\n",
    "#                 A_pos+=1\n",
    "#             else:\n",
    "#                 B_pos+=1\n",
    "#         Cp[i+1] = nnz;"
   ]
  },
  {
   "cell_type": "code",
   "execution_count": 117,
   "metadata": {},
   "outputs": [
    {
     "ename": "TypingError",
     "evalue": "Failed in nopython mode pipeline (step: nopython frontend)\n\u001b[1m\u001b[1m\u001b[1mNo implementation of function Function(<class 'set'>) found for signature:\n \n >>> set(array(int32, 1d, C), array(int32, 1d, C))\n \nThere are 2 candidate implementations:\n\u001b[1m  - Of which 2 did not match due to:\n  Overload in function 'SetBuiltin.generic': File: numba/core/typing/setdecl.py: Line 20.\n    With argument(s): '(array(int32, 1d, C), array(int32, 1d, C))':\u001b[0m\n\u001b[1m   Rejected as the implementation raised a specific error:\n     ValueError: too many values to unpack (expected 1)\u001b[0m\n  raised from /home/ecarx/G/.envs/jumper/lib/python3.6/site-packages/numba/core/typing/setdecl.py:24\n\u001b[0m\n\u001b[0m\u001b[1mDuring: resolving callee type: Function(<class 'set'>)\u001b[0m\n\u001b[0m\u001b[1mDuring: typing of call at <ipython-input-116-4c128ddb89ad> (28)\n\u001b[0m\n\u001b[1m\nFile \"<ipython-input-116-4c128ddb89ad>\", line 28:\u001b[0m\n\u001b[1mdef csr_elmul_csr(n_row, n_col,\n    <source elided>\n        #while not finished with either row\n\u001b[1m        insec_pos = set(Aj[Ap[i]:Ap[i+1]],Bj[Bp[i]:Bp[i+1]])\n\u001b[0m        \u001b[1m^\u001b[0m\u001b[0m\n",
     "output_type": "error",
     "traceback": [
      "\u001b[0;31m---------------------------------------------------------------------------\u001b[0m",
      "\u001b[0;31mTypingError\u001b[0m                               Traceback (most recent call last)",
      "\u001b[0;32m<ipython-input-117-e0157f00da48>\u001b[0m in \u001b[0;36m<module>\u001b[0;34m\u001b[0m\n\u001b[1;32m      8\u001b[0m            \u001b[0mCp\u001b[0m\u001b[0;34m,\u001b[0m\u001b[0;34m\u001b[0m\u001b[0;34m\u001b[0m\u001b[0m\n\u001b[1;32m      9\u001b[0m            \u001b[0mCj\u001b[0m\u001b[0;34m,\u001b[0m\u001b[0;34m\u001b[0m\u001b[0;34m\u001b[0m\u001b[0m\n\u001b[0;32m---> 10\u001b[0;31m            Cx)\n\u001b[0m",
      "\u001b[0;32m~/G/.envs/jumper/lib/python3.6/site-packages/numba/core/dispatcher.py\u001b[0m in \u001b[0;36m_compile_for_args\u001b[0;34m(self, *args, **kws)\u001b[0m\n\u001b[1;32m    412\u001b[0m                 \u001b[0me\u001b[0m\u001b[0;34m.\u001b[0m\u001b[0mpatch_message\u001b[0m\u001b[0;34m(\u001b[0m\u001b[0mmsg\u001b[0m\u001b[0;34m)\u001b[0m\u001b[0;34m\u001b[0m\u001b[0;34m\u001b[0m\u001b[0m\n\u001b[1;32m    413\u001b[0m \u001b[0;34m\u001b[0m\u001b[0m\n\u001b[0;32m--> 414\u001b[0;31m             \u001b[0merror_rewrite\u001b[0m\u001b[0;34m(\u001b[0m\u001b[0me\u001b[0m\u001b[0;34m,\u001b[0m \u001b[0;34m'typing'\u001b[0m\u001b[0;34m)\u001b[0m\u001b[0;34m\u001b[0m\u001b[0;34m\u001b[0m\u001b[0m\n\u001b[0m\u001b[1;32m    415\u001b[0m         \u001b[0;32mexcept\u001b[0m \u001b[0merrors\u001b[0m\u001b[0;34m.\u001b[0m\u001b[0mUnsupportedError\u001b[0m \u001b[0;32mas\u001b[0m \u001b[0me\u001b[0m\u001b[0;34m:\u001b[0m\u001b[0;34m\u001b[0m\u001b[0;34m\u001b[0m\u001b[0m\n\u001b[1;32m    416\u001b[0m             \u001b[0;31m# Something unsupported is present in the user code, add help info\u001b[0m\u001b[0;34m\u001b[0m\u001b[0;34m\u001b[0m\u001b[0;34m\u001b[0m\u001b[0m\n",
      "\u001b[0;32m~/G/.envs/jumper/lib/python3.6/site-packages/numba/core/dispatcher.py\u001b[0m in \u001b[0;36merror_rewrite\u001b[0;34m(e, issue_type)\u001b[0m\n\u001b[1;32m    355\u001b[0m                 \u001b[0;32mraise\u001b[0m \u001b[0me\u001b[0m\u001b[0;34m\u001b[0m\u001b[0;34m\u001b[0m\u001b[0m\n\u001b[1;32m    356\u001b[0m             \u001b[0;32melse\u001b[0m\u001b[0;34m:\u001b[0m\u001b[0;34m\u001b[0m\u001b[0;34m\u001b[0m\u001b[0m\n\u001b[0;32m--> 357\u001b[0;31m                 \u001b[0;32mraise\u001b[0m \u001b[0me\u001b[0m\u001b[0;34m.\u001b[0m\u001b[0mwith_traceback\u001b[0m\u001b[0;34m(\u001b[0m\u001b[0;32mNone\u001b[0m\u001b[0;34m)\u001b[0m\u001b[0;34m\u001b[0m\u001b[0;34m\u001b[0m\u001b[0m\n\u001b[0m\u001b[1;32m    358\u001b[0m \u001b[0;34m\u001b[0m\u001b[0m\n\u001b[1;32m    359\u001b[0m         \u001b[0margtypes\u001b[0m \u001b[0;34m=\u001b[0m \u001b[0;34m[\u001b[0m\u001b[0;34m]\u001b[0m\u001b[0;34m\u001b[0m\u001b[0;34m\u001b[0m\u001b[0m\n",
      "\u001b[0;31mTypingError\u001b[0m: Failed in nopython mode pipeline (step: nopython frontend)\n\u001b[1m\u001b[1m\u001b[1mNo implementation of function Function(<class 'set'>) found for signature:\n \n >>> set(array(int32, 1d, C), array(int32, 1d, C))\n \nThere are 2 candidate implementations:\n\u001b[1m  - Of which 2 did not match due to:\n  Overload in function 'SetBuiltin.generic': File: numba/core/typing/setdecl.py: Line 20.\n    With argument(s): '(array(int32, 1d, C), array(int32, 1d, C))':\u001b[0m\n\u001b[1m   Rejected as the implementation raised a specific error:\n     ValueError: too many values to unpack (expected 1)\u001b[0m\n  raised from /home/ecarx/G/.envs/jumper/lib/python3.6/site-packages/numba/core/typing/setdecl.py:24\n\u001b[0m\n\u001b[0m\u001b[1mDuring: resolving callee type: Function(<class 'set'>)\u001b[0m\n\u001b[0m\u001b[1mDuring: typing of call at <ipython-input-116-4c128ddb89ad> (28)\n\u001b[0m\n\u001b[1m\nFile \"<ipython-input-116-4c128ddb89ad>\", line 28:\u001b[0m\n\u001b[1mdef csr_elmul_csr(n_row, n_col,\n    <source elided>\n        #while not finished with either row\n\u001b[1m        insec_pos = set(Aj[Ap[i]:Ap[i+1]],Bj[Bp[i]:Bp[i+1]])\n\u001b[0m        \u001b[1m^\u001b[0m\u001b[0m\n"
     ]
    }
   ],
   "source": [
    "csr_elmul_csr(n_row, n_col,\n",
    "           Ap,\n",
    "           Aj,\n",
    "           Ax,\n",
    "           Bp,\n",
    "           Bj,\n",
    "           Bx,\n",
    "           Cp, \n",
    "           Cj, \n",
    "           Cx)"
   ]
  },
  {
   "cell_type": "code",
   "execution_count": 90,
   "metadata": {},
   "outputs": [],
   "source": [
    "from scipy.sparse import  _sparsetools\n",
    "fn = getattr(_sparsetools, \"csr_elmul_csr\")"
   ]
  },
  {
   "cell_type": "code",
   "execution_count": 94,
   "metadata": {},
   "outputs": [],
   "source": [
    "fn(n_row, n_col,\n",
    "           Ap,\n",
    "           Aj,\n",
    "           Ax,\n",
    "           Bp,\n",
    "           Bj,\n",
    "           Bx,\n",
    "           Cp, \n",
    "           Cj, \n",
    "           Cx) "
   ]
  },
  {
   "cell_type": "code",
   "execution_count": null,
   "metadata": {},
   "outputs": [],
   "source": []
  },
  {
   "cell_type": "code",
   "execution_count": 78,
   "metadata": {},
   "outputs": [],
   "source": [
    "A = sparse.csr_matrix((Cx, Cj, Cp), shape=m1x.shape)\n",
    "A.prune()"
   ]
  },
  {
   "cell_type": "code",
   "execution_count": 79,
   "metadata": {},
   "outputs": [
    {
     "data": {
      "text/plain": [
       "array([[ 430,    0,    0, ...,  129,    0,    0],\n",
       "       [ 130,    0,    0, ...,    0,    0,    0],\n",
       "       [   0,    0,  690, ...,    0,   94,    0],\n",
       "       ...,\n",
       "       [   0,    0,    0, ...,  210,    0,    0],\n",
       "       [ 588,    0,    0, ...,    0,    0,    0],\n",
       "       [   0,    0,    0, ...,  324, 1558,    0]])"
      ]
     },
     "execution_count": 79,
     "metadata": {},
     "output_type": "execute_result"
    }
   ],
   "source": [
    "A.toarray()"
   ]
  },
  {
   "cell_type": "code",
   "execution_count": 83,
   "metadata": {},
   "outputs": [
    {
     "data": {
      "text/plain": [
       "True"
      ]
     },
     "execution_count": 83,
     "metadata": {},
     "output_type": "execute_result"
    }
   ],
   "source": [
    "((m1x.multiply(m2x)).toarray() == A.toarray()).all()"
   ]
  },
  {
   "cell_type": "code",
   "execution_count": 56,
   "metadata": {},
   "outputs": [],
   "source": [
    "n_row,n_col = m1.shape\n",
    "Ap = m1x.indptr\n",
    "Aj = m1x.indices\n",
    "Ax = m1x.data\n",
    "Bp = m2x.indptr\n",
    "Bj = m2x.indices\n",
    "Bx = m2x.data\n",
    "Cp = indptr\n",
    "Cj = indices\n",
    "Cx = data\n",
    "# indices,\n",
    "# data,\n",
    "# other_indptr,\n",
    "# other_indices,\n",
    "# other_data,\n",
    "# result_indptr, \n",
    "# result_indices, \n",
    "# result_data\n",
    "\n",
    "Cp[0] = 0;\n",
    "nnz = 0;\n",
    "op = sum\n",
    "\n",
    "for i in range(n_row):\n",
    "    A_pos = Ap[i]\n",
    "    B_pos = Bp[i]\n",
    "    A_end = Ap[i+1]\n",
    "    B_end = Bp[i+1]\n",
    "\n",
    "    #while not finished with either row\n",
    "    while(A_pos < A_end and B_pos < B_end):\n",
    "        A_j = Aj[A_pos]\n",
    "        B_j = Bj[B_pos]\n",
    "\n",
    "        if(A_j == B_j):\n",
    "            result = Ax[A_pos]*Bx[B_pos]\n",
    "            if(result != 0):\n",
    "                Cj[nnz] = A_j\n",
    "                Cx[nnz] = result\n",
    "                nnz+=1\n",
    "            A_pos+=1\n",
    "            B_pos+=1\n",
    "        elif (A_j < B_j):\n",
    "            result = 0 # op(Ax[A_pos],0)\n",
    "            if (result != 0):\n",
    "                Cj[nnz] = A_j\n",
    "                Cx[nnz] = result\n",
    "                nnz+=1\n",
    "            \n",
    "            A_pos+=1\n",
    "        else:\n",
    "            # B_j < A_j\n",
    "            result = 0 #op(0,Bx[B_pos]);\n",
    "            if (result != 0):\n",
    "                Cj[nnz] = B_j\n",
    "                Cx[nnz] = result\n",
    "                nnz+=1\n",
    "            \n",
    "            B_pos+=1\n",
    "    Cp[i+1] = nnz;"
   ]
  },
  {
   "cell_type": "code",
   "execution_count": null,
   "metadata": {},
   "outputs": [],
   "source": []
  }
 ],
 "metadata": {
  "kernelspec": {
   "display_name": "Python 3.6.8 64-bit ('jumper': venv)",
   "language": "python",
   "name": "python36864bitjumpervenvaaf0b6334c2b46ba99dc1ed2f87da2d3"
  },
  "language_info": {
   "codemirror_mode": {
    "name": "ipython",
    "version": 3
   },
   "file_extension": ".py",
   "mimetype": "text/x-python",
   "name": "python",
   "nbconvert_exporter": "python",
   "pygments_lexer": "ipython3",
   "version": "3.6.8"
  },
  "toc": {
   "base_numbering": 1,
   "nav_menu": {},
   "number_sections": true,
   "sideBar": true,
   "skip_h1_title": false,
   "title_cell": "Table of Contents",
   "title_sidebar": "Contents",
   "toc_cell": false,
   "toc_position": {},
   "toc_section_display": true,
   "toc_window_display": false
  }
 },
 "nbformat": 4,
 "nbformat_minor": 4
}
